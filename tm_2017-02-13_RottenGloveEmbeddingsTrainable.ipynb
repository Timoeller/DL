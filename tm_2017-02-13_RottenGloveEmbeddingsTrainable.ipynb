{
 "cells": [
  {
   "cell_type": "code",
   "execution_count": 1,
   "metadata": {
    "collapsed": false
   },
   "outputs": [
    {
     "name": "stderr",
     "output_type": "stream",
     "text": [
      "/home/timomoeller/.virtualenvs/keras/lib/python3.5/site-packages/IPython/html.py:14: ShimWarning: The `IPython.html` package has been deprecated. You should import from `notebook` instead. `IPython.html.widgets` has moved to `ipywidgets`.\n",
      "  \"`IPython.html.widgets` has moved to `ipywidgets`.\", ShimWarning)\n",
      "Using TensorFlow backend.\n"
     ]
    },
    {
     "name": "stdout",
     "output_type": "stream",
     "text": [
      "[nltk_data] Downloading package stopwords to\n",
      "[nltk_data]     /home/timomoeller/nltk_data...\n",
      "[nltk_data]   Package stopwords is already up-to-date!\n"
     ]
    },
    {
     "data": {
      "text/html": [
       "<div>\n",
       "<table border=\"1\" class=\"dataframe\">\n",
       "  <thead>\n",
       "    <tr style=\"text-align: right;\">\n",
       "      <th></th>\n",
       "      <th>PhraseId</th>\n",
       "      <th>SentenceId</th>\n",
       "      <th>Phrase</th>\n",
       "      <th>Sentiment</th>\n",
       "    </tr>\n",
       "  </thead>\n",
       "  <tbody>\n",
       "    <tr>\n",
       "      <th>0</th>\n",
       "      <td>1</td>\n",
       "      <td>1</td>\n",
       "      <td>A series of escapades demonstrating the adage ...</td>\n",
       "      <td>1</td>\n",
       "    </tr>\n",
       "    <tr>\n",
       "      <th>1</th>\n",
       "      <td>2</td>\n",
       "      <td>1</td>\n",
       "      <td>A series of escapades demonstrating the adage ...</td>\n",
       "      <td>2</td>\n",
       "    </tr>\n",
       "  </tbody>\n",
       "</table>\n",
       "</div>"
      ],
      "text/plain": [
       "   PhraseId  SentenceId                                             Phrase  \\\n",
       "0         1           1  A series of escapades demonstrating the adage ...   \n",
       "1         2           1  A series of escapades demonstrating the adage ...   \n",
       "\n",
       "   Sentiment  \n",
       "0          1  \n",
       "1          2  "
      ]
     },
     "execution_count": 1,
     "metadata": {},
     "output_type": "execute_result"
    }
   ],
   "source": [
    "import numpy as np\n",
    "import pandas as pd\n",
    "import matplotlib.pyplot as plt\n",
    "import seaborn as sns\n",
    "\n",
    "%matplotlib inline\n",
    "from keras.utils import np_utils\n",
    "\n",
    "train_df = pd.read_csv('rotten/train.tsv', sep='\\t', header=0)\n",
    "test_df = pd.read_csv('rotten/test.tsv', sep='\\t', header=0)\n",
    "\n",
    "import nltk\n",
    "nltk.download('stopwords')\n",
    "from nltk import RegexpTokenizer\n",
    "from nltk.corpus import stopwords\n",
    "\n",
    "#removing seemingly useless stopwords decreases performance ~ 1%\n",
    "def removePunktAndStopwords(phrases):\n",
    "    toInclude = set(['above','below','between','but','couldn','didn','doesn','down',\n",
    "                     'few','hadn','haven','isn','just','mightn','mustn','needn','nor',\n",
    "                     'not','off','once','only','out','over','should','shouldn','some',\n",
    "                     'very','wasn','weren','won','wouldn','again','against','all',\n",
    "                     'any','aren'])\n",
    "    stop_wordsLarge = set(stopwords.words('english'))\n",
    "    stop_words = set([w for w in stop_wordsLarge if w not in toInclude])\n",
    "    tokenizer = RegexpTokenizer('[a-z]\\w+')\n",
    "    docs_toke = [tokenizer.tokenize(doc.lower()) for doc in phrases]\n",
    "    stopwordsremoved = [[t for t in temp if t not in stop_words] for temp in docs_toke]\n",
    "    return np.asarray([\" \".join(w) for w in stopwordsremoved])\n",
    "\n",
    "train_df.head(2)"
   ]
  },
  {
   "cell_type": "code",
   "execution_count": 32,
   "metadata": {
    "collapsed": false
   },
   "outputs": [
    {
     "name": "stdout",
     "output_type": "stream",
     "text": [
      "intersection size 6901\n",
      "training corpus size 14999\n",
      "test corpus size 9356\n"
     ]
    }
   ],
   "source": [
    "# compute intersection of dictionaries\n",
    "train_phrases = removePunktAndStopwords(train_df[\"Phrase\"].values)\n",
    "test_phrases = removePunktAndStopwords(test_df[\"Phrase\"].values)\n",
    "\n",
    "toke = Tokenizer()\n",
    "toke.fit_on_texts(train_phrases)\n",
    "word_index = toke.word_index.keys()\n",
    "\n",
    "\n",
    "toke = Tokenizer()\n",
    "toke.fit_on_texts(test_phrases)\n",
    "word_index2 = toke.word_index.keys()\n",
    "\n",
    "a = word_index2 & word_index\n",
    "print(\"intersection size %i\" %len(a))\n",
    "print(\"training corpus size %i\" %len(word_index))\n",
    "print(\"test corpus size %i\" %len(word_index2))"
   ]
  },
  {
   "cell_type": "code",
   "execution_count": 2,
   "metadata": {
    "collapsed": false
   },
   "outputs": [
    {
     "name": "stdout",
     "output_type": "stream",
     "text": [
      "Found 400000 word vectors.\n",
      "Using 14951 word vectors of total vocabulary size: 15288\n"
     ]
    },
    {
     "data": {
      "image/png": "[encoded data removed]",
      "text/plain": [
       "<matplotlib.figure.Figure at 0x7f89b1d79780>"
      ]
     },
     "metadata": {},
     "output_type": "display_data"
    }
   ],
   "source": [
    "from keras.preprocessing.text import Tokenizer\n",
    "from keras.preprocessing.sequence import pad_sequences\n",
    "MAX_SEQUENCE_LENGTH = 20\n",
    "EMBEDDING_DIM = 100\n",
    "\n",
    "#train_phrases = removePunktAndStopwords(train_df[\"Phrase\"].values)\n",
    "#test_phrases = removePunktAndStopwords(test_df[\"Phrase\"].values)\n",
    "train_phrases = train_df[\"Phrase\"].values\n",
    "test_phrases = test_df[\"Phrase\"].values\n",
    "\n",
    "toke = Tokenizer()\n",
    "#toke.fit_on_texts(np.concatenate([train_phrases,test_phrases],axis=0))\n",
    "toke.fit_on_texts(train_phrases)\n",
    "sequences = toke.texts_to_sequences(train_phrases)\n",
    "lengths = np.asarray([len(bla) for bla in sequences])\n",
    "plt.hist(lengths,np.max(lengths))\n",
    "\n",
    "word_index = toke.word_index\n",
    "X_train = pad_sequences(sequences, maxlen=MAX_SEQUENCE_LENGTH)\n",
    "y_train = np_utils.to_categorical(train_df[\"Sentiment\"].values)\n",
    "X_test = pad_sequences(toke.texts_to_sequences(test_phrases), maxlen=MAX_SEQUENCE_LENGTH)\n",
    "\n",
    "#load glove vectors\n",
    "#download them from http://nlp.stanford.edu/data/glove.6B.zip\n",
    "embeddings_index = {}\n",
    "GLOVE_DIR = 'rotten/glove.6B'\n",
    "import os\n",
    "f = open(os.path.join(GLOVE_DIR, 'glove.6B.%id.txt' %EMBEDDING_DIM))\n",
    "for line in f:\n",
    "    values = line.split()\n",
    "    word = values[0]\n",
    "    coefs = np.asarray(values[1:], dtype='float32')\n",
    "    embeddings_index[word] = coefs\n",
    "f.close()\n",
    "print('Found %s word vectors.' % len(embeddings_index))\n",
    "#take only word vecs that are in training dictionary\n",
    "embedding_matrix = np.zeros((len(word_index) + 1, EMBEDDING_DIM))\n",
    "found = 0\n",
    "for word, i in word_index.items():\n",
    "    embedding_vector = embeddings_index.get(word)\n",
    "    if embedding_vector is not None:\n",
    "        # words not found in embedding index will be all-zeros.\n",
    "        found +=1\n",
    "        embedding_matrix[i] = embedding_vector\n",
    "        \n",
    "print('Using %i word vectors of total vocabulary size: %i' %(found,len(word_index)))"
   ]
  },
  {
   "cell_type": "code",
   "execution_count": 4,
   "metadata": {
    "collapsed": false
   },
   "outputs": [
    {
     "name": "stdout",
     "output_type": "stream",
     "text": [
      "____________________________________________________________________________________________________\n",
      "Layer (type)                     Output Shape          Param #     Connected to                     \n",
      "====================================================================================================\n",
      "input_1 (InputLayer)             (None, 20)            0                                            \n",
      "____________________________________________________________________________________________________\n",
      "embedding_1 (Embedding)          (None, 20, 100)       1528900     input_1[0][0]                    \n",
      "____________________________________________________________________________________________________\n",
      "lstm_1 (LSTM)                    (None, 256)           365568      embedding_1[0][0]                \n",
      "____________________________________________________________________________________________________\n",
      "batchnormalization_1 (BatchNorma (None, 256)           1024        lstm_1[0][0]                     \n",
      "____________________________________________________________________________________________________\n",
      "dense_1 (Dense)                  (None, 5)             1285        batchnormalization_1[0][0]       \n",
      "====================================================================================================\n",
      "Total params: 1,896,777\n",
      "Trainable params: 1,896,265\n",
      "Non-trainable params: 512\n",
      "____________________________________________________________________________________________________\n"
     ]
    }
   ],
   "source": [
    "#LSTM with embedding trainable\n",
    "from keras.models import Model\n",
    "from keras.layers import Input\n",
    "from keras.optimizers import Adam\n",
    "from keras.layers import Dense, Dropout, Activation, Embedding, BatchNormalization\n",
    "from keras.layers import LSTM\n",
    "\n",
    "opt = Adam(0.002)\n",
    "inp = Input(shape=X_train.shape[1:])\n",
    "x = Embedding(len(word_index) + 1,\n",
    "              EMBEDDING_DIM,\n",
    "              weights=[embedding_matrix],\n",
    "              input_length=MAX_SEQUENCE_LENGTH,\n",
    "              trainable=True,\n",
    "              input_shape=X_train.shape[1:])(inp)\n",
    "x = LSTM(256, return_sequences=False, dropout_W = 0.3, dropout_U = 0.3)(x)\n",
    "x = BatchNormalization()(x)\n",
    "pred = Dense(5,activation='softmax')(x)\n",
    "\n",
    "model = Model(inp,pred)\n",
    "model.compile(loss='categorical_crossentropy', optimizer=opt, metrics=['categorical_accuracy'])\n",
    "model.summary()"
   ]
  },
  {
   "cell_type": "code",
   "execution_count": 5,
   "metadata": {
    "collapsed": false
   },
   "outputs": [
    {
     "name": "stdout",
     "output_type": "stream",
     "text": [
      "Epoch 1/3\n",
      "156060/156060 [==============================] - 48s - loss: 0.9611 - categorical_accuracy: 0.6042    \n",
      "Epoch 2/3\n",
      "156060/156060 [==============================] - 47s - loss: 0.7857 - categorical_accuracy: 0.6726    \n",
      "Epoch 3/3\n",
      "156060/156060 [==============================] - 45s - loss: 0.7185 - categorical_accuracy: 0.6984    \n"
     ]
    },
    {
     "data": {
      "text/plain": [
       "<keras.callbacks.History at 0x7f8a204bbe48>"
      ]
     },
     "execution_count": 5,
     "metadata": {},
     "output_type": "execute_result"
    }
   ],
   "source": [
    "#kaggle results: \n",
    "# 0.65589, glove embeddings only for words in training corpus, no stopwords removed, 3 epochs only!\n",
    "\n",
    "idx = np.random.permutation(X_train.shape[0])\n",
    "model.fit(X_train[idx], y_train[idx], nb_epoch=3, batch_size=128, verbose=1)#,validation_split=0.2)"
   ]
  },
  {
   "cell_type": "code",
   "execution_count": 6,
   "metadata": {
    "collapsed": false
   },
   "outputs": [],
   "source": [
    "#predict on test set for uploading to kaggle\n",
    "predictions = model.predict(X_test,batch_size=256)\n",
    "preds = np.argmax(predictions,axis=1)\n",
    "test_df[\"Sentiment\"] = pd.Series(preds,index=test_df.index)\n",
    "header = [\"PhraseId\", \"Sentiment\"]\n",
    "test_df.to_csv('rotten/predictions.csv', columns = header,index=False)"
   ]
  },
  {
   "cell_type": "code",
   "execution_count": 28,
   "metadata": {
    "collapsed": false
   },
   "outputs": [
    {
     "name": "stdout",
     "output_type": "stream",
     "text": [
      "MSE 1.192\n",
      "num errores 45149\n",
      "predicted 2 with actual 1 on: series escapades demonstrating adage good goose also good gander some occasionally amuses but none amounts much story\n",
      "predicted 3 with actual 2 on: good goose\n",
      "predicted 3 with actual 2 on: good goose\n",
      "predicted 3 with actual 2 on: good goose\n",
      "predicted 2 with actual 1 on: gander some occasionally amuses but none amounts much story\n"
     ]
    },
    {
     "data": {
      "image/png": "[encoded data removed]",
      "text/plain": [
       "<matplotlib.figure.Figure at 0x7f8d4cd52fd0>"
      ]
     },
     "metadata": {},
     "output_type": "display_data"
    }
   ],
   "source": [
    "#helper fcts to understand errors\n",
    "predictions_train = model.predict(X_train,batch_size=256)\n",
    "preds_train = np.argmax(predictions_train,axis=1)\n",
    "error = np.nonzero(preds_train != train_df[\"Sentiment\"].values)[0]\n",
    "\n",
    "print(\"MSE %.3f\" %np.mean(np.power(preds_train[error] - train_df[\"Sentiment\"].values[error],2)))\n",
    "\n",
    "print(\"num errores %i\" %(error.shape[0]))\n",
    "for i in range(5):\n",
    "    print(\"predicted %i with actual %i on: \" %(preds_train[error[i]],\n",
    "                                               train_df[\"Sentiment\"].values[error[i]]) + train_phrases[error[i]])\n",
    "\n",
    "    \n",
    "lengths_error = np.sum(X_train[error] > 0,axis=1)\n",
    "plt.hist(lengths_error,np.max(lengths_error))\n",
    "plt.show()\n",
    "    "
   ]
  },
  {
   "cell_type": "code",
   "execution_count": 31,
   "metadata": {
    "collapsed": false
   },
   "outputs": [
    {
     "name": "stdout",
     "output_type": "stream",
     "text": [
      "(1448,)\n",
      "[[ 0.02817473  0.19268861  0.39547181  0.34837493  0.03528998]\n",
      " [ 0.02817473  0.19268861  0.39547181  0.34837493  0.03528998]\n",
      " [ 0.08187187  0.30501127  0.39973554  0.19354957  0.01983174]\n",
      " [ 0.07637319  0.26827067  0.2876853   0.27804273  0.08962817]\n",
      " [ 0.07360668  0.19404075  0.27572629  0.31142661  0.14519957]]\n"
     ]
    },
    {
     "data": {
      "image/png": "[encoded data removed]",
      "text/plain": [
       "<matplotlib.figure.Figure at 0x7f8d4d062278>"
      ]
     },
     "metadata": {},
     "output_type": "display_data"
    }
   ],
   "source": [
    "#look at predictions of test set\n",
    "idx = np.nonzero(np.max(predictions,axis=1) < 0.4)[0]\n",
    "print(idx.shape)\n",
    "print(predictions[idx[:5],:])\n",
    "\n",
    "unsure_lengths = np.sum(X_test[idx] > 0,axis=1)\n",
    "plt.hist(unsure_lengths,np.max(unsure_lengths))\n",
    "plt.show()"
   ]
  }
 ],
 "metadata": {
  "anaconda-cloud": {},
  "kernelspec": {
   "display_name": "Python 3 keras",
   "language": "python",
   "name": "keras"
  },
  "language_info": {
   "codemirror_mode": {
    "name": "ipython",
    "version": 3
   },
   "file_extension": ".py",
   "mimetype": "text/x-python",
   "name": "python",
   "nbconvert_exporter": "python",
   "pygments_lexer": "ipython3",
   "version": "3.5.2"
  }
 },
 "nbformat": 4,
 "nbformat_minor": 1
}
