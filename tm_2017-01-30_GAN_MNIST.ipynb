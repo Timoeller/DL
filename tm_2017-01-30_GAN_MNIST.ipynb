{
 "cells": [
  {
   "cell_type": "code",
   "execution_count": 1,
   "metadata": {
    "collapsed": false
   },
   "outputs": [
    {
     "name": "stderr",
     "output_type": "stream",
     "text": [
      "/home/timomoeller/.virtualenvs/keras/lib/python3.5/site-packages/IPython/html.py:14: ShimWarning: The `IPython.html` package has been deprecated. You should import from `notebook` instead. `IPython.html.widgets` has moved to `ipywidgets`.\n",
      "  \"`IPython.html.widgets` has moved to `ipywidgets`.\", ShimWarning)\n",
      "Using TensorFlow backend.\n"
     ]
    },
    {
     "name": "stdout",
     "output_type": "stream",
     "text": [
      "Training input shape:  (60000, 28, 28)\n",
      "Training input shape reshaped:  (60000, 28, 28, 1)\n",
      "Training labels reshaped:  (60000, 10)\n"
     ]
    }
   ],
   "source": [
    "# code taken and refined from: https://github.com/osh/KerasGAN\n",
    "\n",
    "import numpy as np\n",
    "from matplotlib import pyplot as plt\n",
    "import seaborn as sns\n",
    "import os\n",
    "from IPython import display\n",
    "import tqdm\n",
    "os.environ[\"KERAS_BACKEND\"] = \"tensorflow\"\n",
    "%matplotlib inline\n",
    "\n",
    "from keras.datasets import mnist\n",
    "from keras.utils.np_utils import to_categorical\n",
    "\n",
    "# Load pre-shuffled MNIST data into train and test sets\n",
    "(X_train, y_train), (X_test, y_test) = mnist.load_data()\n",
    "print(\"Training input shape: \", X_train.shape)\n",
    "X_train = X_train.reshape(X_train.shape[0], 28, 28, 1) #tf ordering, depth/channels at last index\n",
    "X_test = X_test.reshape(X_test.shape[0], 28, 28, 1)\n",
    "\n",
    "X_train = X_train.astype('float32')\n",
    "X_test = X_test.astype('float32')\n",
    "\n",
    "X_train /= 255\n",
    "X_test /= 255\n",
    "\n",
    "print(\"Training input shape reshaped: \",X_train.shape)\n",
    "labels_train = to_categorical(y_train)\n",
    "labels_test = to_categorical(y_test)\n",
    "print(\"Training labels reshaped: \", labels_train.shape)"
   ]
  },
  {
   "cell_type": "code",
   "execution_count": 2,
   "metadata": {
    "collapsed": false
   },
   "outputs": [],
   "source": [
    "from keras.layers import Input\n",
    "from keras.layers.advanced_activations import LeakyReLU\n",
    "from keras.layers.core import Activation, Dense, Dropout, Flatten, Reshape\n",
    "from keras.layers.convolutional import Convolution2D, UpSampling2D, MaxPooling2D\n",
    "from keras.layers.normalization import BatchNormalization\n",
    "from keras.optimizers import Adam\n",
    "\n",
    "from keras.models import Model\n",
    "\n",
    "def make_trainable(net,  val):\n",
    "    net.trainable = val\n",
    "    for l in net.layers:\n",
    "        l.trainable = val"
   ]
  },
  {
   "cell_type": "code",
   "execution_count": 3,
   "metadata": {
    "collapsed": false
   },
   "outputs": [],
   "source": [
    "#Generative model\n",
    "\n",
    "noise_inp = np.random.rand(1000,100)\n",
    "nch = 200\n",
    "\n",
    "g_opt = Adam(lr=1e-3)\n",
    "g_inp = Input(shape=(100,))\n",
    "H = Dense(nch*14*14,activation='relu',init='glorot_normal',input_shape=(100,))(g_inp)\n",
    "H = Reshape((14,14,nch))(H)\n",
    "H = BatchNormalization(mode=2)(H) # if using theano change axis argument here!!!\n",
    "H = UpSampling2D(size=(2,2))(H)\n",
    "H = Convolution2D(int(nch/2),3,3,border_mode='same',init='glorot_uniform',activation='relu')(H)\n",
    "H = BatchNormalization(mode=2)(H)\n",
    "H = Convolution2D(int(nch/4),3,3,border_mode='same',init='glorot_uniform',activation='relu')(H)\n",
    "H = BatchNormalization(mode=2)(H)\n",
    "#H = Convolution2D(1, 1, 1, border_mode='same', init='glorot_uniform')(H)\n",
    "#pred = Activation('sigmoid')(H)\n",
    "g_pred = Dense(1,init='glorot_uniform',activation='sigmoid')(H)\n",
    "\n",
    "generator = Model(g_inp,g_pred)\n",
    "generator.compile(loss='binary_crossentropy',optimizer=g_opt)\n",
    "#generator.summary()"
   ]
  },
  {
   "cell_type": "code",
   "execution_count": 4,
   "metadata": {
    "collapsed": false
   },
   "outputs": [],
   "source": [
    "# discriminator\n",
    "d_opt = Adam(lr=1e-4)\n",
    "d_inp = Input(shape=X_train.shape[1:])\n",
    "\n",
    "H = Convolution2D(128,3,3,activation='relu',input_shape=X_train.shape[1:])(d_inp)\n",
    "H = Convolution2D(32, 3,3,activation='relu')(H)\n",
    "H = MaxPooling2D(pool_size=(2,2))(H)\n",
    "H = Dropout(0.5)(H)\n",
    "\n",
    "# H = Convolution2D(512,5,5,subsample=(2,2),border_mode='same')(H)\n",
    "# H = LeakyReLU(alpha=0.2)(H)\n",
    "# H = Dropout(0.5)(H)\n",
    "\n",
    "H = Flatten()(H)\n",
    "H = Dense(256)(H)\n",
    "H = LeakyReLU(0.1)(H)\n",
    "H = Dropout(0.5)(H)\n",
    "d_pred = Dense(2,activation='softmax')(H)\n",
    "discriminator = Model(d_inp,d_pred)\n",
    "discriminator.compile(loss='categorical_crossentropy',optimizer = d_opt)\n",
    "#discriminator.summary()"
   ]
  },
  {
   "cell_type": "code",
   "execution_count": 5,
   "metadata": {
    "collapsed": false
   },
   "outputs": [
    {
     "name": "stdout",
     "output_type": "stream",
     "text": [
      "____________________________________________________________________________________________________\n",
      "Layer (type)                     Output Shape          Param #     Connected to                     \n",
      "====================================================================================================\n",
      "input_3 (InputLayer)             (None, 100)           0                                            \n",
      "____________________________________________________________________________________________________\n",
      "model_1 (Model)                  (None, 28, 28, 1)     4185801     input_3[0][0]                    \n",
      "____________________________________________________________________________________________________\n",
      "model_2 (Model)                  (None, 2)             1218594     model_1[1][0]                    \n",
      "====================================================================================================\n",
      "Total params: 5,404,395\n",
      "Trainable params: 5,403,695\n",
      "Non-trainable params: 700\n",
      "____________________________________________________________________________________________________\n"
     ]
    }
   ],
   "source": [
    "# GAN, put together\n",
    "#make_trainable(discriminator,False)\n",
    "gan_inp = Input(shape=(100,))\n",
    "H = generator(gan_inp)\n",
    "gan_pred = discriminator(H)\n",
    "GAN = Model(gan_inp,gan_pred)\n",
    "GAN.compile(loss='categorical_crossentropy', optimizer = Adam(1e-3))\n",
    "GAN.summary()\n",
    "\n",
    "#helper fcts\n",
    "def plot_loss(losses):\n",
    "        display.clear_output(wait=True)\n",
    "        display.display(plt.gcf())\n",
    "        plt.figure(figsize=(5,4))\n",
    "        plt.plot(losses[\"d\"], label='discriminitive loss')\n",
    "        plt.plot(losses[\"g\"], label='generative loss')\n",
    "        plt.legend()\n",
    "        plt.show()\n",
    "        \n",
    "\n",
    "def plot_gen(n_ex=16,dim=(4,4), figsize=(5,5) ):\n",
    "    noise = np.random.uniform(0,1,size=[n_ex,100])\n",
    "    generated_images = generator.predict(noise)\n",
    "\n",
    "    plt.figure(figsize=figsize)\n",
    "    for i in range(generated_images.shape[0]):\n",
    "        plt.subplot(dim[0],dim[1],i+1)\n",
    "        img = generated_images[i,:,:,0]\n",
    "        plt.imshow(img)\n",
    "        plt.axis('off')\n",
    "    plt.tight_layout()\n",
    "    plt.show()"
   ]
  },
  {
   "cell_type": "code",
   "execution_count": 10,
   "metadata": {
    "collapsed": false
   },
   "outputs": [
    {
     "name": "stdout",
     "output_type": "stream",
     "text": [
      "(20000, 28, 28, 1) labels: (20000, 2)\n",
      "Train on 18000 samples, validate on 2000 samples\n",
      "Epoch 1/1\n",
      "18000/18000 [==============================] - 11s - loss: 8.0277 - val_loss: 8.3411\n"
     ]
    },
    {
     "data": {
      "text/plain": [
       "<keras.callbacks.History at 0x7f5af81546a0>"
      ]
     },
     "execution_count": 10,
     "metadata": {},
     "output_type": "execute_result"
    }
   ],
   "source": [
    "# pre train discriminator\n",
    "make_trainable(discriminator,True)\n",
    "num_samples= 10000\n",
    "random_g_inp = np.random.uniform(0,1,size=(num_samples,100))\n",
    "random_gen = generator.predict(random_g_inp)\n",
    "\n",
    "X = np.concatenate((X_train[:num_samples,:,:,:],random_gen))\n",
    "y = np.zeros((X.shape[0],2))\n",
    "y[:num_samples,1]=1\n",
    "y[num_samples:,0]=1\n",
    "\n",
    "idx = np.random.permutation(num_samples*2)\n",
    "print(str(X.shape) + ' labels: ' + str(y.shape))\n",
    "discriminator.fit(X[idx],y[idx],nb_epoch=1,batch_size=32,validation_split=0.1)\n"
   ]
  },
  {
   "cell_type": "code",
   "execution_count": 7,
   "metadata": {
    "collapsed": false
   },
   "outputs": [],
   "source": [
    "# set up loss storage vector\n",
    "losses = {\"d\":[], \"g\":[]}\n",
    "\n",
    "def train_for_n(nb_epoch=5000, plt_frq=25,BATCH_SIZE=32):\n",
    "\n",
    "    for e in tqdm.trange(nb_epoch):  \n",
    "        \n",
    "        # Make generative images\n",
    "        image_batch = X_train[np.random.randint(0,X_train.shape[0],size=BATCH_SIZE),:,:,:]    \n",
    "        noise_gen = np.random.uniform(0,1,size=[BATCH_SIZE,100])\n",
    "        generated_images = generator.predict(noise_gen)\n",
    "        \n",
    "        # Train discriminator on generated images\n",
    "        X = np.concatenate((image_batch, generated_images))\n",
    "        y = np.zeros([2*BATCH_SIZE,2])\n",
    "        y[0:BATCH_SIZE,1] = 1\n",
    "        y[BATCH_SIZE:,0] = 1\n",
    "        \n",
    "        make_trainable(discriminator,True)\n",
    "        d_loss  = discriminator.train_on_batch(X,y)\n",
    "        losses[\"d\"].append(d_loss)\n",
    "    \n",
    "        # train Generator-Discriminator stack on input noise to non-generated output class\n",
    "        noise_tr = np.random.uniform(0,1,size=[BATCH_SIZE,100])\n",
    "        y2 = np.zeros([BATCH_SIZE,2])\n",
    "        y2[:,1] = 1\n",
    "        \n",
    "        make_trainable(discriminator,False)\n",
    "        g_loss = GAN.train_on_batch(noise_tr, y2 )\n",
    "        losses[\"g\"].append(g_loss)\n",
    "        \n",
    "        # Updates plots\n",
    "        if e%plt_frq==plt_frq-1:\n",
    "            plot_loss(losses)\n",
    "            plot_gen()"
   ]
  },
  {
   "cell_type": "code",
   "execution_count": 8,
   "metadata": {
    "collapsed": false
   },
   "outputs": [
    {
     "data": {
      "text/plain": [
       "<matplotlib.figure.Figure at 0x7f5b3c28a160>"
      ]
     },
     "metadata": {},
     "output_type": "display_data"
    },
    {
     "data": {
      "text/plain": [
       "<matplotlib.figure.Figure at 0x7f5b3c28a160>"
      ]
     },
     "metadata": {},
     "output_type": "display_data"
    },
    {
     "data": {
      "image/png": "[encoded data removed]",
      "text/plain": [
       "<matplotlib.figure.Figure at 0x7f5b3c124b00>"
      ]
     },
     "metadata": {},
     "output_type": "display_data"
    },
    {
     "data": {
      "image/png": "[encoded data removed]",
      "text/plain": [
       "<matplotlib.figure.Figure at 0x7f5b300bcc18>"
      ]
     },
     "metadata": {},
     "output_type": "display_data"
    },
    {
     "name": "stderr",
     "output_type": "stream",
     "text": [
      "100%|██████████| 50/50 [00:38<00:00,  1.13it/s]\n"
     ]
    }
   ],
   "source": [
    "train_for_n(nb_epoch=50, plt_frq=5,BATCH_SIZE=128)"
   ]
  },
  {
   "cell_type": "code",
   "execution_count": 13,
   "metadata": {
    "collapsed": false
   },
   "outputs": [
    {
     "ename": "AttributeError",
     "evalue": "module 'keras' has no attribute 'set_value'",
     "output_type": "error",
     "traceback": [
      "\u001b[0;31m---------------------------------------------------------------------------\u001b[0m",
      "\u001b[0;31mAttributeError\u001b[0m                            Traceback (most recent call last)",
      "\u001b[0;32m<ipython-input-13-25d71baa1fed>\u001b[0m in \u001b[0;36m<module>\u001b[0;34m()\u001b[0m\n\u001b[0;32m----> 1\u001b[0;31m \u001b[0mK\u001b[0m\u001b[0;34m.\u001b[0m\u001b[0mset_value\u001b[0m\u001b[0;34m(\u001b[0m\u001b[0md_opt\u001b[0m\u001b[0;34m,\u001b[0m\u001b[0mlr\u001b[0m\u001b[0;34m=\u001b[0m\u001b[0;36m1e-4\u001b[0m\u001b[0;34m)\u001b[0m\u001b[0;34m\u001b[0m\u001b[0m\n\u001b[0m",
      "\u001b[0;31mAttributeError\u001b[0m: module 'keras' has no attribute 'set_value'"
     ]
    }
   ],
   "source": [
    "K.set_value(d_opt,lr=1e-4)"
   ]
  }
 ],
 "metadata": {
  "anaconda-cloud": {},
  "kernelspec": {
   "display_name": "Python 3 keras",
   "language": "python",
   "name": "keras"
  },
  "language_info": {
   "codemirror_mode": {
    "name": "ipython",
    "version": 3
   },
   "file_extension": ".py",
   "mimetype": "text/x-python",
   "name": "python",
   "nbconvert_exporter": "python",
   "pygments_lexer": "ipython3",
   "version": "3.5.2"
  }
 },
 "nbformat": 4,
 "nbformat_minor": 1
}
