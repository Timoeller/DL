{
 "cells": [
  {
   "cell_type": "code",
   "execution_count": 1,
   "metadata": {
    "collapsed": false
   },
   "outputs": [
    {
     "name": "stderr",
     "output_type": "stream",
     "text": [
      "/home/timomoeller/.virtualenvs/keras/lib/python3.5/site-packages/IPython/html.py:14: ShimWarning: The `IPython.html` package has been deprecated. You should import from `notebook` instead. `IPython.html.widgets` has moved to `ipywidgets`.\n",
      "  \"`IPython.html.widgets` has moved to `ipywidgets`.\", ShimWarning)\n"
     ]
    },
    {
     "name": "stdout",
     "output_type": "stream",
     "text": [
      "[nltk_data] Downloading package stopwords to\n",
      "[nltk_data]     /home/timomoeller/nltk_data...\n",
      "[nltk_data]   Package stopwords is already up-to-date!\n"
     ]
    },
    {
     "name": "stderr",
     "output_type": "stream",
     "text": [
      "Using TensorFlow backend.\n"
     ]
    }
   ],
   "source": [
    "import numpy as np\n",
    "import pandas as pd\n",
    "import matplotlib.pyplot as plt\n",
    "import seaborn as sns\n",
    "\n",
    "from sklearn.feature_extraction.text import CountVectorizer\n",
    "\n",
    "from nltk.corpus import stopwords\n",
    "import nltk\n",
    "nltk.download('stopwords')\n",
    "\n",
    "%matplotlib inline\n",
    "from keras.utils import np_utils"
   ]
  },
  {
   "cell_type": "code",
   "execution_count": 2,
   "metadata": {
    "collapsed": false
   },
   "outputs": [
    {
     "name": "stdout",
     "output_type": "stream",
     "text": [
      "number sentences : 122014\n"
     ]
    },
    {
     "data": {
      "image/png": "[encoded data removed]",
      "text/plain": [
       "<matplotlib.figure.Figure at 0x7f0637523cc0>"
      ]
     },
     "metadata": {},
     "output_type": "display_data"
    }
   ],
   "source": [
    "#preprocess\n",
    "from nltk import word_tokenize          \n",
    "from nltk.stem import SnowballStemmer \n",
    "from nltk.tokenize import RegexpTokenizer\n",
    "from keras.preprocessing.text import Tokenizer\n",
    "from keras.preprocessing import sequence\n",
    "\n",
    "class TimoTokenizer(object):\n",
    "    def __init__(self):\n",
    "        self.stop_words = set(stopwords.words('english'))\n",
    "        self.stop_words.remove('but')\n",
    "        self.stop_words.remove('not') # left outer join would be nice...\n",
    "        self.tokenizer = RegexpTokenizer('[a-z]\\w+')\n",
    "    def lmtokenize(self,doc):\n",
    "        temp = self.tokenizer.tokenize(doc.lower())\n",
    "        stopwordsremoved = np.asarray([t for t in temp if t not in self.stop_words])\n",
    "        return stopwordsremoved\n",
    "    \n",
    "def removeSubsentence(df):\n",
    "    #laggles rotten competition has many (useless?) subsentences,\n",
    "    # they should all occur at first index of senenceId, hence nonzero[0][0]\n",
    "    sent_id = df['SentenceId'].values\n",
    "    unique_sent_id = np.unique(sent_id)\n",
    "    myidx = np.zeros(unique_sent_id.shape[0],dtype=\"int\")\n",
    "    for i,val in enumerate(unique_sent_id):\n",
    "        myidx[i] = int(np.nonzero(sent_id == val)[0][0])\n",
    "    return df.iloc[myidx]\n",
    "    \n",
    "\n",
    "def preprocess(df,num_words):\n",
    "    #remove non characters and aply stemming\n",
    "    phrases = df[\"Phrase\"].values\n",
    "    sentiments = df[\"Sentiment\"].values\n",
    "    tokenizer=TimoTokenizer()\n",
    "    sentences = np.asarray([tokenizer.lmtokenize(text) for text in phrases])\n",
    "    lengths = np.asarray([len(text) for text in sentences]) #double computation\n",
    "    #histplot of lengths for cutoff selection\n",
    "    plt.hist(lengths,np.max(lengths))\n",
    "    plt.title(\"word count on stemmed, stopwords-removed texts, adjust cutoff and padding\")\n",
    "    idx = np.nonzero(lengths > num_words)[0]\n",
    "    sentiments = sentiments[idx]\n",
    "    sentences = sentences[idx]\n",
    "    return sentences,sentiments\n",
    "\n",
    "def preprocessTest(df):\n",
    "    #remove non characters and aply stemming\n",
    "    phrases = df[\"Phrase\"].values\n",
    "    tokenizer=TimoTokenizer()\n",
    "    sentences = np.asarray([tokenizer.lmtokenize(text) for text in phrases])\n",
    "    return sentences\n",
    "\n",
    "def embedSentence(sentences,embeddings_index,nb_timesteps =25,d_embedding = 100):   \n",
    "    X = np.zeros((len(sentences),nb_timesteps,d_embedding))\n",
    "    # manual zero padding and truncation\n",
    "    for i,doc in enumerate(sentences):\n",
    "        all_vectors = []\n",
    "        for word in doc:\n",
    "            temp = embeddings_index.get(word)\n",
    "            if temp is not None:\n",
    "                all_vectors.append(temp)\n",
    "\n",
    "        start = np.max([nb_timesteps - len(all_vectors),0])\n",
    "        finish = np.min([nb_timesteps, len(all_vectors)])\n",
    "        X[i,start:,:] = np.reshape(np.asarray(all_vectors[:finish]),(1,nb_timesteps-start,d_embedding))\n",
    "    return X\n",
    "\n",
    "\n",
    "num_words = 1\n",
    "train_df = pd.read_csv('rotten/train.tsv', sep='\\t', header=0)\n",
    "test_df = pd.read_csv('rotten/test.tsv', sep='\\t', header=0)\n",
    "#train_df = removeSubsentence(train_df)\n",
    "sentences,sentiments = preprocess(train_df,num_words)\n",
    "test_sentences = preprocessTest(test_df)\n",
    "sentences,sentiments = preprocess(train_df,num_words)\n",
    "print(\"number sentences : %i\" %(len(sentences)))    "
   ]
  },
  {
   "cell_type": "code",
   "execution_count": 3,
   "metadata": {
    "collapsed": false
   },
   "outputs": [
    {
     "name": "stdout",
     "output_type": "stream",
     "text": [
      "Found 400000 word vectors.\n"
     ]
    }
   ],
   "source": [
    "#load glove vectors\n",
    "embeddings_index = {}\n",
    "GLOVE_DIR = 'rotten/glove.6B'\n",
    "import os\n",
    "f = open(os.path.join(GLOVE_DIR, 'glove.6B.100d.txt'))\n",
    "for line in f:\n",
    "    values = line.split()\n",
    "    word = values[0]\n",
    "    coefs = np.asarray(values[1:], dtype='float32')\n",
    "    embeddings_index[word] = coefs\n",
    "f.close()\n",
    "\n",
    "print('Found %s word vectors.' % len(embeddings_index))"
   ]
  },
  {
   "cell_type": "code",
   "execution_count": 5,
   "metadata": {
    "collapsed": false
   },
   "outputs": [
    {
     "name": "stdout",
     "output_type": "stream",
     "text": [
      "(122014, 20, 100)\n",
      "(66292, 20, 100)\n",
      "(122014, 5)\n"
     ]
    }
   ],
   "source": [
    "X = embedSentence(sentences,embeddings_index,nb_timesteps = 20,d_embedding = 100)\n",
    "test_X = embedSentence(test_sentences,embeddings_index,nb_timesteps = 20,d_embedding = 100)\n",
    "y = np_utils.to_categorical(sentiments)\n",
    "print(X.shape)\n",
    "print(test_X.shape)\n",
    "print(y.shape)"
   ]
  },
  {
   "cell_type": "code",
   "execution_count": 6,
   "metadata": {
    "collapsed": false
   },
   "outputs": [
    {
     "name": "stdout",
     "output_type": "stream",
     "text": [
      "____________________________________________________________________________________________________\n",
      "Layer (type)                     Output Shape          Param #     Connected to                     \n",
      "====================================================================================================\n",
      "input_1 (InputLayer)             (None, 20, 100)       0                                            \n",
      "____________________________________________________________________________________________________\n",
      "lstm_1 (LSTM)                    (None, 400)           801600      input_1[0][0]                    \n",
      "____________________________________________________________________________________________________\n",
      "dropout_1 (Dropout)              (None, 400)           0           lstm_1[0][0]                     \n",
      "____________________________________________________________________________________________________\n",
      "dense_1 (Dense)                  (None, 5)             2005        dropout_1[0][0]                  \n",
      "====================================================================================================\n",
      "Total params: 803,605\n",
      "Trainable params: 803,605\n",
      "Non-trainable params: 0\n",
      "____________________________________________________________________________________________________\n"
     ]
    }
   ],
   "source": [
    "#LSTM\n",
    "from keras.models import Model\n",
    "from keras.layers import Input\n",
    "from keras.layers import Dense, Dropout, Activation, Embedding, BatchNormalization\n",
    "from keras.layers import LSTM, GRU, AveragePooling1D\n",
    "\n",
    "inp = Input(shape=X.shape[1:])\n",
    "\n",
    "#x = Embedding(input_dim=len(train_vocab),output_dim=128,input_length=inputlength,input_shape=(1,))(inp)\n",
    "x = LSTM(400, return_sequences=False, dropout_W = 0.3, dropout_U = 0.3, input_shape=X.shape[1:] )(inp)\n",
    "x = Dropout(0.3)(x)\n",
    "pred = Dense(5,activation='softmax')(x)\n",
    "\n",
    "model = Model(inp,pred)\n",
    "model.compile(loss='categorical_crossentropy', optimizer='adam', metrics=['categorical_accuracy'])\n",
    "model.summary()\n"
   ]
  },
  {
   "cell_type": "code",
   "execution_count": 19,
   "metadata": {
    "collapsed": false
   },
   "outputs": [
    {
     "name": "stdout",
     "output_type": "stream",
     "text": [
      "Epoch 1/14\n",
      "122014/122014 [==============================] - 74s - loss: 1.0470 - categorical_accuracy: 0.5595    \n",
      "Epoch 2/14\n",
      "122014/122014 [==============================] - 72s - loss: 1.0031 - categorical_accuracy: 0.5769    \n",
      "Epoch 3/14\n",
      "122014/122014 [==============================] - 74s - loss: 0.9673 - categorical_accuracy: 0.5906    \n",
      "Epoch 4/14\n",
      "122014/122014 [==============================] - 73s - loss: 0.9386 - categorical_accuracy: 0.6056    \n",
      "Epoch 5/14\n",
      "122014/122014 [==============================] - 72s - loss: 0.9139 - categorical_accuracy: 0.6144    \n",
      "Epoch 6/14\n",
      "122014/122014 [==============================] - 74s - loss: 0.8923 - categorical_accuracy: 0.6236    \n",
      "Epoch 7/14\n",
      "122014/122014 [==============================] - 74s - loss: 0.8768 - categorical_accuracy: 0.6300    \n",
      "Epoch 8/14\n",
      "122014/122014 [==============================] - 76s - loss: 0.8650 - categorical_accuracy: 0.6351    \n",
      "Epoch 9/14\n",
      "122014/122014 [==============================] - 75s - loss: 0.8546 - categorical_accuracy: 0.6392    \n",
      "Epoch 10/14\n",
      "122014/122014 [==============================] - 70s - loss: 0.8419 - categorical_accuracy: 0.6430    \n",
      "Epoch 11/14\n",
      "122014/122014 [==============================] - 73s - loss: 0.8346 - categorical_accuracy: 0.6477    \n",
      "Epoch 12/14\n",
      "122014/122014 [==============================] - 77s - loss: 0.8257 - categorical_accuracy: 0.6505    \n",
      "Epoch 13/14\n",
      "122014/122014 [==============================] - 75s - loss: 0.8186 - categorical_accuracy: 0.6541    \n",
      "Epoch 14/14\n",
      "122014/122014 [==============================] - 73s - loss: 0.8149 - categorical_accuracy: 0.6555    \n"
     ]
    },
    {
     "data": {
      "text/plain": [
       "<keras.callbacks.History at 0x7f52bee5e400>"
      ]
     },
     "execution_count": 19,
     "metadata": {},
     "output_type": "execute_result"
    }
   ],
   "source": [
    "# model results on test set: \n",
    "# LSTM(400,dr_W = 0.3, dr_U = 0.3) + Dr(0.3) + Dense(5) -> 1 epoch 0.604, 15 epochs 0.636\n",
    "\n",
    "idx = np.random.permutation(X.shape[0])\n",
    "model.fit(X[idx], y[idx], nb_epoch=8, batch_size=64, verbose=1)#,validation_split=0.2)"
   ]
  },
  {
   "cell_type": "code",
   "execution_count": 20,
   "metadata": {
    "collapsed": true
   },
   "outputs": [],
   "source": [
    "predictions = model.predict(test_X,batch_size=64)\n",
    "preds = np.argmax(predictions,axis=1)\n",
    "test_df[\"Sentiment\"] = pd.Series(preds,index=test_df.index)\n",
    "header = [\"PhraseId\", \"Sentiment\"]\n",
    "test_df.to_csv('rotten/predictions.csv', columns = header,index=False)"
   ]
  }
 ],
 "metadata": {
  "anaconda-cloud": {},
  "kernelspec": {
   "display_name": "Python 3 keras",
   "language": "python",
   "name": "keras"
  },
  "language_info": {
   "codemirror_mode": {
    "name": "ipython",
    "version": 3
   },
   "file_extension": ".py",
   "mimetype": "text/x-python",
   "name": "python",
   "nbconvert_exporter": "python",
   "pygments_lexer": "ipython3",
   "version": "3.5.2"
  }
 },
 "nbformat": 4,
 "nbformat_minor": 1
}
